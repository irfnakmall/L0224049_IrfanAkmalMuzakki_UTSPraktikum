{
 "cells": [
  {
   "cell_type": "markdown",
   "id": "ae816e84",
   "metadata": {},
   "source": [
    "# 💻 Soal Praktikum Pemodelan dan Simulasi (PDS) Kelas B\n",
    "### Oleh: [Nama Kamu]\n",
    "_Saya bersumpah bahwa saya mengerjakan ini dengan jujur_"
   ]
  },
  {
   "cell_type": "markdown",
   "id": "93cd2074",
   "metadata": {},
   "source": [
    "## 1️⃣ Regresi Linear Sederhana\n",
    "Dataset: Advertising Data\n",
    "\n",
    "**Tugas:**\n",
    "- Deskripsi data\n",
    "- Model regresi linear (Sales vs TV)\n",
    "- Slope & Intercept\n",
    "- R², MSE, RMSE & Analisis"
   ]
  },
  {
   "cell_type": "code",
   "execution_count": null,
   "id": "d17ea005",
   "metadata": {},
   "outputs": [],
   "source": [
    "# Saya bersumpah bahwa saya mengerjakan ini dengan jujur\n",
    "\n",
    "import pandas as pd\n",
    "import numpy as np\n",
    "import matplotlib.pyplot as plt\n",
    "from sklearn.linear_model import LinearRegression\n",
    "from sklearn.metrics import mean_squared_error, r2_score\n",
    "\n",
    "# Baca dataset (ganti dengan path dataset kamu)\n",
    "# data = pd.read_csv('advertising.csv')\n",
    "# Contoh dummy\n",
    "data = pd.DataFrame({\n",
    "    'TV': [230.1, 44.5, 17.2, 151.5, 180.8],\n",
    "    'Radio': [37.8, 39.3, 45.9, 41.3, 10.8],\n",
    "    'Newspaper': [69.2, 45.1, 69.3, 58.5, 58.4],\n",
    "    'Sales': [22.1, 10.4, 9.3, 18.5, 12.9]\n",
    "})\n",
    "\n",
    "# a. Deskripsi data\n",
    "print(data.describe())\n",
    "\n",
    "# b. Model regresi Sales ~ TV\n",
    "X = data[['TV']]\n",
    "y = data['Sales']\n",
    "model = LinearRegression().fit(X, y)\n",
    "\n",
    "# c. Slope dan intercept\n",
    "print(\"Intercept:\", model.intercept_)\n",
    "print(\"Slope:\", model.coef_)\n",
    "\n",
    "# d. Evaluasi model\n",
    "y_pred = model.predict(X)\n",
    "r2 = r2_score(y, y_pred)\n",
    "mse = mean_squared_error(y, y_pred)\n",
    "rmse = np.sqrt(mse)\n",
    "\n",
    "print(f\"R² = {r2:.3f}, MSE = {mse:.3f}, RMSE = {rmse:.3f}\")\n",
    "\n",
    "# Visualisasi\n",
    "plt.scatter(X, y, color='blue')\n",
    "plt.plot(X, y_pred, color='red')\n",
    "plt.xlabel('TV')\n",
    "plt.ylabel('Sales')\n",
    "plt.title('Regresi Linear Sederhana: Sales vs TV')\n",
    "plt.show()"
   ]
  },
  {
   "cell_type": "markdown",
   "id": "3785dd13",
   "metadata": {},
   "source": [
    "## 2️⃣ Regresi Linear Berganda"
   ]
  },
  {
   "cell_type": "code",
   "execution_count": null,
   "id": "501ab16c",
   "metadata": {},
   "outputs": [],
   "source": [
    "# Saya bersumpah bahwa saya mengerjakan ini dengan jujur\n",
    "\n",
    "X_multi = data[['TV', 'Radio', 'Newspaper']]\n",
    "y_multi = data['Sales']\n",
    "\n",
    "model_multi = LinearRegression().fit(X_multi, y_multi)\n",
    "\n",
    "print(\"Intercept:\", model_multi.intercept_)\n",
    "print(\"Koefisien:\", model_multi.coef_)\n",
    "\n",
    "y_pred_multi = model_multi.predict(X_multi)\n",
    "r2_multi = r2_score(y_multi, y_pred_multi)\n",
    "mse_multi = mean_squared_error(y_multi, y_pred_multi)\n",
    "rmse_multi = np.sqrt(mse_multi)\n",
    "\n",
    "print(f\"R² = {r2_multi:.3f}, MSE = {mse_multi:.3f}, RMSE = {rmse_multi:.3f}\")\n",
    "\n",
    "print(\"\\nPerbandingan model sederhana vs berganda:\")\n",
    "print(f\"R² Sederhana = {r2:.3f}, R² Berganda = {r2_multi:.3f}\")"
   ]
  },
  {
   "cell_type": "markdown",
   "id": "c80c135f",
   "metadata": {},
   "source": [
    "## 3️⃣ Regresi Non Linear (Polynomial Regression)"
   ]
  },
  {
   "cell_type": "code",
   "execution_count": null,
   "id": "9fe52045",
   "metadata": {},
   "outputs": [],
   "source": [
    "# Saya bersumpah bahwa saya mengerjakan ini dengan jujur\n",
    "\n",
    "from sklearn.preprocessing import PolynomialFeatures\n",
    "\n",
    "# Dummy dataset es krim\n",
    "temp = np.linspace(10, 35, 10)\n",
    "sales = [15, 18, 25, 35, 45, 60, 75, 80, 90, 95]\n",
    "data_ice = pd.DataFrame({'Temperature': temp, 'Sales': sales})\n",
    "\n",
    "plt.scatter(data_ice['Temperature'], data_ice['Sales'], color='blue')\n",
    "plt.title('Ice Cream Sales vs Temperature')\n",
    "plt.show()\n",
    "\n",
    "# Linear regression\n",
    "lin = LinearRegression().fit(data_ice[['Temperature']], data_ice['Sales'])\n",
    "y_lin_pred = lin.predict(data_ice[['Temperature']])\n",
    "\n",
    "plt.plot(data_ice['Temperature'], y_lin_pred, color='red')\n",
    "plt.scatter(data_ice['Temperature'], data_ice['Sales'])\n",
    "plt.title('Linear Regression')\n",
    "plt.show()\n",
    "\n",
    "# Polynomial regression dengan degree berbeda\n",
    "degrees = [2, 4, 6, 8, 10]\n",
    "for d in degrees:\n",
    "    poly = PolynomialFeatures(degree=d)\n",
    "    X_poly = poly.fit_transform(data_ice[['Temperature']])\n",
    "    model_poly = LinearRegression().fit(X_poly, data_ice['Sales'])\n",
    "    y_poly = model_poly.predict(X_poly)\n",
    "    plt.plot(data_ice['Temperature'], y_poly, label=f'degree {d}')\n",
    "plt.scatter(data_ice['Temperature'], data_ice['Sales'], color='black')\n",
    "plt.legend()\n",
    "plt.title('Polynomial Regression Comparison')\n",
    "plt.show()"
   ]
  },
  {
   "cell_type": "markdown",
   "id": "12ea7136",
   "metadata": {},
   "source": [
    "## 4️⃣ Sistem Dinamik – Model Pertumbuhan Logistik"
   ]
  },
  {
   "cell_type": "code",
   "execution_count": null,
   "id": "858c5480",
   "metadata": {},
   "outputs": [],
   "source": [
    "# Saya bersumpah bahwa saya mengerjakan ini dengan jujur\n",
    "\n",
    "from scipy.integrate import odeint\n",
    "\n",
    "# Parameter\n",
    "P0 = 200\n",
    "r = 0.08\n",
    "K = 5000\n",
    "t = np.linspace(0, 100, 100)\n",
    "\n",
    "def logistic_growth(P, t, r, K):\n",
    "    return r * P * (1 - P/K)\n",
    "\n",
    "P = odeint(logistic_growth, P0, t, args=(r, K))\n",
    "plt.plot(t, P)\n",
    "plt.title('Pertumbuhan Populasi Ikan Cupang (Model Logistik)')\n",
    "plt.xlabel('Bulan')\n",
    "plt.ylabel('Populasi')\n",
    "plt.show()"
   ]
  },
  {
   "cell_type": "markdown",
   "id": "51b112d3",
   "metadata": {},
   "source": [
    "## 5️⃣ Interpolasi"
   ]
  },
  {
   "cell_type": "code",
   "execution_count": null,
   "id": "22cefd72",
   "metadata": {},
   "outputs": [],
   "source": [
    "# Saya bersumpah bahwa saya mengerjakan ini dengan jujur\n",
    "\n",
    "from scipy import interpolate\n",
    "\n",
    "# Dummy data\n",
    "minutes = np.array([0, 1, 2, 3, 4])\n",
    "temperature = np.array([25, 26, 27, 29, 30])\n",
    "\n",
    "f_linear = interpolate.interp1d(minutes, temperature, kind='linear')\n",
    "f_quad = interpolate.interp1d(minutes, temperature, kind='quadratic')\n",
    "f_cubic = interpolate.interp1d(minutes, temperature, kind='cubic')\n",
    "\n",
    "print(\"Linear (1.5 min):\", f_linear(1.5))\n",
    "print(\"Quadratic (2.5 min):\", f_quad(2.5))\n",
    "print(\"Cubic (3.5 min):\", f_cubic(3.5))"
   ]
  },
  {
   "cell_type": "markdown",
   "id": "aec052f1",
   "metadata": {},
   "source": [
    "## 6️⃣ Random Number Generator"
   ]
  },
  {
   "cell_type": "code",
   "execution_count": null,
   "id": "108fd6d6",
   "metadata": {},
   "outputs": [],
   "source": [
    "# Saya bersumpah bahwa saya mengerjakan ini dengan jujur\n",
    "\n",
    "# a. Distribusi Poisson\n",
    "lam = 7\n",
    "data_poisson = np.random.poisson(lam, 100)\n",
    "plt.hist(data_poisson, bins=range(0, max(data_poisson)+1), edgecolor='black')\n",
    "plt.title('Distribusi Poisson (λ=7)')\n",
    "plt.show()\n",
    "\n",
    "# b. Distribusi Binomial\n",
    "n, p = 50, 0.6\n",
    "data_binom = np.random.binomial(n, p, 100)\n",
    "plt.hist(data_binom, bins=15, edgecolor='black')\n",
    "plt.title('Distribusi Binomial (n=50, p=0.6)')\n",
    "plt.show()\n",
    "\n",
    "# c. Distribusi Multinomial\n",
    "# Percobaan 1\n",
    "n1, pvals1 = 8, [0.25, 0.25, 0.25, 0.25, 0]\n",
    "sim1 = np.random.multinomial(n1, pvals1)\n",
    "print(\"Percobaan 1:\", sim1)\n",
    "\n",
    "# Percobaan 2\n",
    "n2, pvals2 = 16, [0.2]*5\n",
    "sim2 = np.random.multinomial(n2, pvals2)\n",
    "print(\"Percobaan 2:\", sim2)"
   ]
  }
 ],
 "metadata": {},
 "nbformat": 4,
 "nbformat_minor": 5
}